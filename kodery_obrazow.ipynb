version https://git-lfs.github.com/spec/v1
oid sha256:defcddc1cfab7cdd755f06b3b8d90509a044472f3554fdb15e114184bc968eac
size 19228003
