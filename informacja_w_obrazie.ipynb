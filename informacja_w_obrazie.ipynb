version https://git-lfs.github.com/spec/v1
oid sha256:2a3487816ab7d5ab8c31476a9f133c0f1cfe7a1dbd486e7a37a3db357af39b70
size 7484985
